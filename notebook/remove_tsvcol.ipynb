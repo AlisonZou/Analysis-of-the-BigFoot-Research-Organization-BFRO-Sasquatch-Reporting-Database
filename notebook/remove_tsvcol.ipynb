{
 "cells": [
  {
   "cell_type": "markdown",
   "id": "b9a2f906",
   "metadata": {},
   "source": [
    "Deleting unimportant columns to get ready for task 6 the Tika similarity"
   ]
  },
  {
   "cell_type": "code",
   "execution_count": 2,
   "id": "ba84eddc-aa40-49de-be0d-2dc23412faf9",
   "metadata": {},
   "outputs": [],
   "source": [
    "import pandas as pd\n",
    "\n",
    "df = pd.read_csv('../data/merged_bfro.tsv', sep='\\t')\n",
    "df = df.drop(['Id', 'EventId', 'Type', 'Severity', 'StartTime(UTC)', 'EndTime(UTC)', 'Precipitation(in)', 'TimeZone', 'AirportCode', \n",
    "             'LocationLat', 'City', 'ZipCode', 'Location Details', 'Observed', 'Also Noticed', 'Other Witnesses', 'Other Stories', 'Follow-Up', \n",
    "             'Follow-Up Report', 'Location Details', 'Submitted Date', 'A & G References', 'Observed.1', 'Media Source', 'Source Url', 'Media Issue', \n",
    "              'Headline', 'LocationLng', 'Author', 'Nearest Road', 'Environment', 'Last_Documented_Presence', 'Conservation Concern', 'Wildlife_Diversity'], axis=1)\n",
    "df.to_csv('../data/selected_bfro.tsv', sep='\\t', index=False)"
   ]
  }
 ],
 "metadata": {
  "kernelspec": {
   "display_name": "Python 3 (ipykernel)",
   "language": "python",
   "name": "python3"
  },
  "language_info": {
   "codemirror_mode": {
    "name": "ipython",
    "version": 3
   },
   "file_extension": ".py",
   "mimetype": "text/x-python",
   "name": "python",
   "nbconvert_exporter": "python",
   "pygments_lexer": "ipython3",
   "version": "3.11.4"
  }
 },
 "nbformat": 4,
 "nbformat_minor": 5
}
